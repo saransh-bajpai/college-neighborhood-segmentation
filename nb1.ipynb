{
  "nbformat": 4,
  "nbformat_minor": 0,
  "metadata": {
    "kernelspec": {
      "display_name": "Python",
      "language": "python",
      "name": "conda-env-python-py"
    },
    "language_info": {
      "codemirror_mode": {
        "name": "ipython",
        "version": 3
      },
      "file_extension": ".py",
      "mimetype": "text/x-python",
      "name": "python",
      "nbconvert_exporter": "python",
      "pygments_lexer": "ipython3",
      "version": "3.6.10"
    },
    "colab": {
      "name": "nb1.ipynb",
      "provenance": []
    }
  },
  "cells": [
    {
      "cell_type": "markdown",
      "metadata": {
        "id": "XH_ljCA111lC",
        "colab_type": "text"
      },
      "source": [
        "#### Neighborhood Segmentation"
      ]
    },
    {
      "cell_type": "markdown",
      "metadata": {
        "id": "r4SyF21j11lD",
        "colab_type": "text"
      },
      "source": [
        "This project uses FourSqaure data api to construct a model that can prdict a substantially good neighborhood using machine learning"
      ]
    },
    {
      "cell_type": "code",
      "metadata": {
        "id": "cqzhcJnG11lE",
        "colab_type": "code",
        "colab": {}
      },
      "source": [
        "import numpy as np\n",
        "import pandas as pd"
      ],
      "execution_count": 1,
      "outputs": []
    },
    {
      "cell_type": "markdown",
      "metadata": {
        "id": "SbuxnF4t11lJ",
        "colab_type": "text"
      },
      "source": [
        "## 1. Scrapping data using beautiful soup and pandas"
      ]
    },
    {
      "cell_type": "markdown",
      "metadata": {
        "id": "E949gKqT11lJ",
        "colab_type": "text"
      },
      "source": [
        "1. Scrapping data using beautiful soup and pandas\n",
        "In order to segement the neighborhoods and explore them, we will essentially need a dataset that contains the boroughs and the neighborhoods that exist in each borough The latitude and logitude coordinates of each neighborhood are not present and are needed to be added in the dataset acoordingly.\n",
        "\n",
        "Luckily, this dataset exists for free on the web on the wikipedia page. here is the link to the dataset: https://en.wikipedia.org/wiki/List_of_postal_codes_of_Canada:_M\n",
        "\n",
        "For your convenience, I downloaded the files and placed it on the server, so you can simply run a wget command and access the data. So let's go ahead and do that."
      ]
    },
    {
      "cell_type": "code",
      "metadata": {
        "id": "iVK5Kb5H11lK",
        "colab_type": "code",
        "colab": {
          "base_uri": "https://localhost:8080/",
          "height": 134
        },
        "outputId": "e84416a1-32fd-4864-fe65-e15bdc2e7b0c"
      },
      "source": [
        "!pip install requests beautifulsoup4\n",
        "!pip install lxml"
      ],
      "execution_count": 2,
      "outputs": [
        {
          "output_type": "stream",
          "text": [
            "Requirement already satisfied: requests in /usr/local/lib/python3.6/dist-packages (2.23.0)\n",
            "Requirement already satisfied: beautifulsoup4 in /usr/local/lib/python3.6/dist-packages (4.6.3)\n",
            "Requirement already satisfied: chardet<4,>=3.0.2 in /usr/local/lib/python3.6/dist-packages (from requests) (3.0.4)\n",
            "Requirement already satisfied: idna<3,>=2.5 in /usr/local/lib/python3.6/dist-packages (from requests) (2.9)\n",
            "Requirement already satisfied: certifi>=2017.4.17 in /usr/local/lib/python3.6/dist-packages (from requests) (2020.4.5.2)\n",
            "Requirement already satisfied: urllib3!=1.25.0,!=1.25.1,<1.26,>=1.21.1 in /usr/local/lib/python3.6/dist-packages (from requests) (1.24.3)\n",
            "Requirement already satisfied: lxml in /usr/local/lib/python3.6/dist-packages (4.2.6)\n"
          ],
          "name": "stdout"
        }
      ]
    },
    {
      "cell_type": "code",
      "metadata": {
        "id": "JYXoKlU_11lO",
        "colab_type": "code",
        "colab": {}
      },
      "source": [
        "from bs4 import BeautifulSoup\n",
        "import requests"
      ],
      "execution_count": 3,
      "outputs": []
    },
    {
      "cell_type": "code",
      "metadata": {
        "id": "k5fKZQ1v11lY",
        "colab_type": "code",
        "colab": {}
      },
      "source": [
        "url=\"https://en.wikipedia.org/wiki/List_of_postal_codes_of_Canada:_M\"\n",
        "\n",
        "# Make a GET request to fetch the raw HTML content\n",
        "html_content = requests.get(url).text\n",
        "\n",
        "# Parse the html content\n",
        "soup = BeautifulSoup(html_content, \"lxml\")\n",
        "#print(soup.prettify()) # print the parsed data of html"
      ],
      "execution_count": 4,
      "outputs": []
    },
    {
      "cell_type": "code",
      "metadata": {
        "id": "dKLJWOE211lg",
        "colab_type": "code",
        "colab": {
          "base_uri": "https://localhost:8080/",
          "height": 404
        },
        "outputId": "ce490f31-71ba-402c-b4d4-85d994235b7b"
      },
      "source": [
        "postal_table = soup.find(\"table\", attrs={\"class\": \"wikitable sortable\"})\n",
        "postal_row = postal_table.tbody.find_all(\"tr\")\n",
        "\n",
        "l = []\n",
        "for tr in postal_row:\n",
        "    td = tr.find_all('td')\n",
        "    row = [tr.text for tr in td]\n",
        "    l.append(row)\n",
        "df1 = pd.DataFrame(l, columns=[\"postal code\", \"borough\", \"Neighborhood\"])\n",
        "df1.drop(0,inplace=True)\n",
        "df1"
      ],
      "execution_count": 5,
      "outputs": [
        {
          "output_type": "execute_result",
          "data": {
            "text/html": [
              "<div>\n",
              "<style scoped>\n",
              "    .dataframe tbody tr th:only-of-type {\n",
              "        vertical-align: middle;\n",
              "    }\n",
              "\n",
              "    .dataframe tbody tr th {\n",
              "        vertical-align: top;\n",
              "    }\n",
              "\n",
              "    .dataframe thead th {\n",
              "        text-align: right;\n",
              "    }\n",
              "</style>\n",
              "<table border=\"1\" class=\"dataframe\">\n",
              "  <thead>\n",
              "    <tr style=\"text-align: right;\">\n",
              "      <th></th>\n",
              "      <th>postal code</th>\n",
              "      <th>borough</th>\n",
              "      <th>Neighborhood</th>\n",
              "    </tr>\n",
              "  </thead>\n",
              "  <tbody>\n",
              "    <tr>\n",
              "      <th>1</th>\n",
              "      <td>M1A\\n</td>\n",
              "      <td>Not assigned\\n</td>\n",
              "      <td>Not assigned\\n</td>\n",
              "    </tr>\n",
              "    <tr>\n",
              "      <th>2</th>\n",
              "      <td>M2A\\n</td>\n",
              "      <td>Not assigned\\n</td>\n",
              "      <td>Not assigned\\n</td>\n",
              "    </tr>\n",
              "    <tr>\n",
              "      <th>3</th>\n",
              "      <td>M3A\\n</td>\n",
              "      <td>North York\\n</td>\n",
              "      <td>Parkwoods\\n</td>\n",
              "    </tr>\n",
              "    <tr>\n",
              "      <th>4</th>\n",
              "      <td>M4A\\n</td>\n",
              "      <td>North York\\n</td>\n",
              "      <td>Victoria Village\\n</td>\n",
              "    </tr>\n",
              "    <tr>\n",
              "      <th>5</th>\n",
              "      <td>M5A\\n</td>\n",
              "      <td>Downtown Toronto\\n</td>\n",
              "      <td>Regent Park, Harbourfront\\n</td>\n",
              "    </tr>\n",
              "    <tr>\n",
              "      <th>...</th>\n",
              "      <td>...</td>\n",
              "      <td>...</td>\n",
              "      <td>...</td>\n",
              "    </tr>\n",
              "    <tr>\n",
              "      <th>176</th>\n",
              "      <td>M5Z\\n</td>\n",
              "      <td>Not assigned\\n</td>\n",
              "      <td>Not assigned\\n</td>\n",
              "    </tr>\n",
              "    <tr>\n",
              "      <th>177</th>\n",
              "      <td>M6Z\\n</td>\n",
              "      <td>Not assigned\\n</td>\n",
              "      <td>Not assigned\\n</td>\n",
              "    </tr>\n",
              "    <tr>\n",
              "      <th>178</th>\n",
              "      <td>M7Z\\n</td>\n",
              "      <td>Not assigned\\n</td>\n",
              "      <td>Not assigned\\n</td>\n",
              "    </tr>\n",
              "    <tr>\n",
              "      <th>179</th>\n",
              "      <td>M8Z\\n</td>\n",
              "      <td>Etobicoke\\n</td>\n",
              "      <td>Mimico NW, The Queensway West, South of Bloor,...</td>\n",
              "    </tr>\n",
              "    <tr>\n",
              "      <th>180</th>\n",
              "      <td>M9Z\\n</td>\n",
              "      <td>Not assigned\\n</td>\n",
              "      <td>Not assigned\\n</td>\n",
              "    </tr>\n",
              "  </tbody>\n",
              "</table>\n",
              "<p>180 rows × 3 columns</p>\n",
              "</div>"
            ],
            "text/plain": [
              "    postal code  ...                                       Neighborhood\n",
              "1         M1A\\n  ...                                     Not assigned\\n\n",
              "2         M2A\\n  ...                                     Not assigned\\n\n",
              "3         M3A\\n  ...                                        Parkwoods\\n\n",
              "4         M4A\\n  ...                                 Victoria Village\\n\n",
              "5         M5A\\n  ...                        Regent Park, Harbourfront\\n\n",
              "..          ...  ...                                                ...\n",
              "176       M5Z\\n  ...                                     Not assigned\\n\n",
              "177       M6Z\\n  ...                                     Not assigned\\n\n",
              "178       M7Z\\n  ...                                     Not assigned\\n\n",
              "179       M8Z\\n  ...  Mimico NW, The Queensway West, South of Bloor,...\n",
              "180       M9Z\\n  ...                                     Not assigned\\n\n",
              "\n",
              "[180 rows x 3 columns]"
            ]
          },
          "metadata": {
            "tags": []
          },
          "execution_count": 5
        }
      ]
    },
    {
      "cell_type": "code",
      "metadata": {
        "id": "ONKLj-0d11ln",
        "colab_type": "code",
        "colab": {
          "base_uri": "https://localhost:8080/",
          "height": 404
        },
        "outputId": "36dc2c16-824b-40c0-91c2-4d38b9d8c17d"
      },
      "source": [
        "dfs = pd.read_html('https://en.wikipedia.org/wiki/List_of_postal_codes_of_Canada:_M',header=0)\n",
        "df = dfs[0]\n",
        "df"
      ],
      "execution_count": 6,
      "outputs": [
        {
          "output_type": "execute_result",
          "data": {
            "text/html": [
              "<div>\n",
              "<style scoped>\n",
              "    .dataframe tbody tr th:only-of-type {\n",
              "        vertical-align: middle;\n",
              "    }\n",
              "\n",
              "    .dataframe tbody tr th {\n",
              "        vertical-align: top;\n",
              "    }\n",
              "\n",
              "    .dataframe thead th {\n",
              "        text-align: right;\n",
              "    }\n",
              "</style>\n",
              "<table border=\"1\" class=\"dataframe\">\n",
              "  <thead>\n",
              "    <tr style=\"text-align: right;\">\n",
              "      <th></th>\n",
              "      <th>Postal Code</th>\n",
              "      <th>Borough</th>\n",
              "      <th>Neighborhood</th>\n",
              "    </tr>\n",
              "  </thead>\n",
              "  <tbody>\n",
              "    <tr>\n",
              "      <th>0</th>\n",
              "      <td>M1A</td>\n",
              "      <td>Not assigned</td>\n",
              "      <td>Not assigned</td>\n",
              "    </tr>\n",
              "    <tr>\n",
              "      <th>1</th>\n",
              "      <td>M2A</td>\n",
              "      <td>Not assigned</td>\n",
              "      <td>Not assigned</td>\n",
              "    </tr>\n",
              "    <tr>\n",
              "      <th>2</th>\n",
              "      <td>M3A</td>\n",
              "      <td>North York</td>\n",
              "      <td>Parkwoods</td>\n",
              "    </tr>\n",
              "    <tr>\n",
              "      <th>3</th>\n",
              "      <td>M4A</td>\n",
              "      <td>North York</td>\n",
              "      <td>Victoria Village</td>\n",
              "    </tr>\n",
              "    <tr>\n",
              "      <th>4</th>\n",
              "      <td>M5A</td>\n",
              "      <td>Downtown Toronto</td>\n",
              "      <td>Regent Park, Harbourfront</td>\n",
              "    </tr>\n",
              "    <tr>\n",
              "      <th>...</th>\n",
              "      <td>...</td>\n",
              "      <td>...</td>\n",
              "      <td>...</td>\n",
              "    </tr>\n",
              "    <tr>\n",
              "      <th>175</th>\n",
              "      <td>M5Z</td>\n",
              "      <td>Not assigned</td>\n",
              "      <td>Not assigned</td>\n",
              "    </tr>\n",
              "    <tr>\n",
              "      <th>176</th>\n",
              "      <td>M6Z</td>\n",
              "      <td>Not assigned</td>\n",
              "      <td>Not assigned</td>\n",
              "    </tr>\n",
              "    <tr>\n",
              "      <th>177</th>\n",
              "      <td>M7Z</td>\n",
              "      <td>Not assigned</td>\n",
              "      <td>Not assigned</td>\n",
              "    </tr>\n",
              "    <tr>\n",
              "      <th>178</th>\n",
              "      <td>M8Z</td>\n",
              "      <td>Etobicoke</td>\n",
              "      <td>Mimico NW, The Queensway West, South of Bloor,...</td>\n",
              "    </tr>\n",
              "    <tr>\n",
              "      <th>179</th>\n",
              "      <td>M9Z</td>\n",
              "      <td>Not assigned</td>\n",
              "      <td>Not assigned</td>\n",
              "    </tr>\n",
              "  </tbody>\n",
              "</table>\n",
              "<p>180 rows × 3 columns</p>\n",
              "</div>"
            ],
            "text/plain": [
              "    Postal Code  ...                                       Neighborhood\n",
              "0           M1A  ...                                       Not assigned\n",
              "1           M2A  ...                                       Not assigned\n",
              "2           M3A  ...                                          Parkwoods\n",
              "3           M4A  ...                                   Victoria Village\n",
              "4           M5A  ...                          Regent Park, Harbourfront\n",
              "..          ...  ...                                                ...\n",
              "175         M5Z  ...                                       Not assigned\n",
              "176         M6Z  ...                                       Not assigned\n",
              "177         M7Z  ...                                       Not assigned\n",
              "178         M8Z  ...  Mimico NW, The Queensway West, South of Bloor,...\n",
              "179         M9Z  ...                                       Not assigned\n",
              "\n",
              "[180 rows x 3 columns]"
            ]
          },
          "metadata": {
            "tags": []
          },
          "execution_count": 6
        }
      ]
    },
    {
      "cell_type": "code",
      "metadata": {
        "id": "7Ngag9jo11lv",
        "colab_type": "code",
        "colab": {}
      },
      "source": [
        "#cleaning the data\n",
        "df= df[df.Borough != 'Not assigned'].reset_index()\n",
        "df.drop('index',axis=1,inplace=True)"
      ],
      "execution_count": 7,
      "outputs": []
    },
    {
      "cell_type": "code",
      "metadata": {
        "id": "XoH7Dzhr11l2",
        "colab_type": "code",
        "colab": {
          "base_uri": "https://localhost:8080/",
          "height": 33
        },
        "outputId": "800d12ae-515d-4d40-f36b-d8b39d3c38f2"
      },
      "source": [
        "df.shape"
      ],
      "execution_count": 8,
      "outputs": [
        {
          "output_type": "execute_result",
          "data": {
            "text/plain": [
              "(103, 3)"
            ]
          },
          "metadata": {
            "tags": []
          },
          "execution_count": 8
        }
      ]
    },
    {
      "cell_type": "code",
      "metadata": {
        "id": "PjgUhCjv11l9",
        "colab_type": "code",
        "colab": {
          "base_uri": "https://localhost:8080/",
          "height": 404
        },
        "outputId": "1b9ebc75-a4f0-4344-bd12-81f812af2b25"
      },
      "source": [
        "df"
      ],
      "execution_count": 9,
      "outputs": [
        {
          "output_type": "execute_result",
          "data": {
            "text/html": [
              "<div>\n",
              "<style scoped>\n",
              "    .dataframe tbody tr th:only-of-type {\n",
              "        vertical-align: middle;\n",
              "    }\n",
              "\n",
              "    .dataframe tbody tr th {\n",
              "        vertical-align: top;\n",
              "    }\n",
              "\n",
              "    .dataframe thead th {\n",
              "        text-align: right;\n",
              "    }\n",
              "</style>\n",
              "<table border=\"1\" class=\"dataframe\">\n",
              "  <thead>\n",
              "    <tr style=\"text-align: right;\">\n",
              "      <th></th>\n",
              "      <th>Postal Code</th>\n",
              "      <th>Borough</th>\n",
              "      <th>Neighborhood</th>\n",
              "    </tr>\n",
              "  </thead>\n",
              "  <tbody>\n",
              "    <tr>\n",
              "      <th>0</th>\n",
              "      <td>M3A</td>\n",
              "      <td>North York</td>\n",
              "      <td>Parkwoods</td>\n",
              "    </tr>\n",
              "    <tr>\n",
              "      <th>1</th>\n",
              "      <td>M4A</td>\n",
              "      <td>North York</td>\n",
              "      <td>Victoria Village</td>\n",
              "    </tr>\n",
              "    <tr>\n",
              "      <th>2</th>\n",
              "      <td>M5A</td>\n",
              "      <td>Downtown Toronto</td>\n",
              "      <td>Regent Park, Harbourfront</td>\n",
              "    </tr>\n",
              "    <tr>\n",
              "      <th>3</th>\n",
              "      <td>M6A</td>\n",
              "      <td>North York</td>\n",
              "      <td>Lawrence Manor, Lawrence Heights</td>\n",
              "    </tr>\n",
              "    <tr>\n",
              "      <th>4</th>\n",
              "      <td>M7A</td>\n",
              "      <td>Downtown Toronto</td>\n",
              "      <td>Queen's Park, Ontario Provincial Government</td>\n",
              "    </tr>\n",
              "    <tr>\n",
              "      <th>...</th>\n",
              "      <td>...</td>\n",
              "      <td>...</td>\n",
              "      <td>...</td>\n",
              "    </tr>\n",
              "    <tr>\n",
              "      <th>98</th>\n",
              "      <td>M8X</td>\n",
              "      <td>Etobicoke</td>\n",
              "      <td>The Kingsway, Montgomery Road, Old Mill North</td>\n",
              "    </tr>\n",
              "    <tr>\n",
              "      <th>99</th>\n",
              "      <td>M4Y</td>\n",
              "      <td>Downtown Toronto</td>\n",
              "      <td>Church and Wellesley</td>\n",
              "    </tr>\n",
              "    <tr>\n",
              "      <th>100</th>\n",
              "      <td>M7Y</td>\n",
              "      <td>East Toronto</td>\n",
              "      <td>Business reply mail Processing Centre, South C...</td>\n",
              "    </tr>\n",
              "    <tr>\n",
              "      <th>101</th>\n",
              "      <td>M8Y</td>\n",
              "      <td>Etobicoke</td>\n",
              "      <td>Old Mill South, King's Mill Park, Sunnylea, Hu...</td>\n",
              "    </tr>\n",
              "    <tr>\n",
              "      <th>102</th>\n",
              "      <td>M8Z</td>\n",
              "      <td>Etobicoke</td>\n",
              "      <td>Mimico NW, The Queensway West, South of Bloor,...</td>\n",
              "    </tr>\n",
              "  </tbody>\n",
              "</table>\n",
              "<p>103 rows × 3 columns</p>\n",
              "</div>"
            ],
            "text/plain": [
              "    Postal Code  ...                                       Neighborhood\n",
              "0           M3A  ...                                          Parkwoods\n",
              "1           M4A  ...                                   Victoria Village\n",
              "2           M5A  ...                          Regent Park, Harbourfront\n",
              "3           M6A  ...                   Lawrence Manor, Lawrence Heights\n",
              "4           M7A  ...        Queen's Park, Ontario Provincial Government\n",
              "..          ...  ...                                                ...\n",
              "98          M8X  ...      The Kingsway, Montgomery Road, Old Mill North\n",
              "99          M4Y  ...                               Church and Wellesley\n",
              "100         M7Y  ...  Business reply mail Processing Centre, South C...\n",
              "101         M8Y  ...  Old Mill South, King's Mill Park, Sunnylea, Hu...\n",
              "102         M8Z  ...  Mimico NW, The Queensway West, South of Bloor,...\n",
              "\n",
              "[103 rows x 3 columns]"
            ]
          },
          "metadata": {
            "tags": []
          },
          "execution_count": 9
        }
      ]
    }
  ]
}